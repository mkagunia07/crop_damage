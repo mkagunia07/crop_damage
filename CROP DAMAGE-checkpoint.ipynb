{
 "cells": [
  {
   "cell_type": "code",
   "execution_count": 8,
   "id": "5c79c500",
   "metadata": {},
   "outputs": [],
   "source": [
    "import numpy as np\n",
    "import pandas as pd"
   ]
  },
  {
   "cell_type": "code",
   "execution_count": 9,
   "id": "7b56fbbe",
   "metadata": {},
   "outputs": [
    {
     "data": {
      "text/html": [
       "<div>\n",
       "<style scoped>\n",
       "    .dataframe tbody tr th:only-of-type {\n",
       "        vertical-align: middle;\n",
       "    }\n",
       "\n",
       "    .dataframe tbody tr th {\n",
       "        vertical-align: top;\n",
       "    }\n",
       "\n",
       "    .dataframe thead th {\n",
       "        text-align: right;\n",
       "    }\n",
       "</style>\n",
       "<table border=\"1\" class=\"dataframe\">\n",
       "  <thead>\n",
       "    <tr style=\"text-align: right;\">\n",
       "      <th></th>\n",
       "      <th>ID</th>\n",
       "      <th>Estimated_Insects_Count</th>\n",
       "      <th>Crop_Type</th>\n",
       "      <th>Soil_Type</th>\n",
       "      <th>Pesticide_Use_Category</th>\n",
       "      <th>Number_Doses_Week</th>\n",
       "      <th>Number_Weeks_Used</th>\n",
       "      <th>Number_Weeks_Quit</th>\n",
       "      <th>Season</th>\n",
       "      <th>Crop_Damage</th>\n",
       "    </tr>\n",
       "  </thead>\n",
       "  <tbody>\n",
       "    <tr>\n",
       "      <th>0</th>\n",
       "      <td>F00000001</td>\n",
       "      <td>188</td>\n",
       "      <td>Kharif</td>\n",
       "      <td>Alluvial</td>\n",
       "      <td>Insecticides</td>\n",
       "      <td>0</td>\n",
       "      <td>0</td>\n",
       "      <td>0</td>\n",
       "      <td>Summer</td>\n",
       "      <td>Minimal Damage</td>\n",
       "    </tr>\n",
       "    <tr>\n",
       "      <th>1</th>\n",
       "      <td>F00000003</td>\n",
       "      <td>209</td>\n",
       "      <td>Kharif</td>\n",
       "      <td>Alluvial</td>\n",
       "      <td>Insecticides</td>\n",
       "      <td>0</td>\n",
       "      <td>0</td>\n",
       "      <td>0</td>\n",
       "      <td>Monsoon</td>\n",
       "      <td>Partial Damage</td>\n",
       "    </tr>\n",
       "    <tr>\n",
       "      <th>2</th>\n",
       "      <td>F00000004</td>\n",
       "      <td>257</td>\n",
       "      <td>Kharif</td>\n",
       "      <td>Alluvial</td>\n",
       "      <td>Insecticides</td>\n",
       "      <td>0</td>\n",
       "      <td>0</td>\n",
       "      <td>0</td>\n",
       "      <td>Monsoon</td>\n",
       "      <td>Partial Damage</td>\n",
       "    </tr>\n",
       "    <tr>\n",
       "      <th>3</th>\n",
       "      <td>F00000005</td>\n",
       "      <td>257</td>\n",
       "      <td>Kharif</td>\n",
       "      <td>Black-Cotton</td>\n",
       "      <td>Insecticides</td>\n",
       "      <td>0</td>\n",
       "      <td>0</td>\n",
       "      <td>0</td>\n",
       "      <td>Monsoon</td>\n",
       "      <td>Partial Damage</td>\n",
       "    </tr>\n",
       "    <tr>\n",
       "      <th>4</th>\n",
       "      <td>F00000006</td>\n",
       "      <td>342</td>\n",
       "      <td>Kharif</td>\n",
       "      <td>Alluvial</td>\n",
       "      <td>Insecticides</td>\n",
       "      <td>0</td>\n",
       "      <td>0</td>\n",
       "      <td>0</td>\n",
       "      <td>Monsoon</td>\n",
       "      <td>Partial Damage</td>\n",
       "    </tr>\n",
       "  </tbody>\n",
       "</table>\n",
       "</div>"
      ],
      "text/plain": [
       "          ID  Estimated_Insects_Count Crop_Type     Soil_Type  \\\n",
       "0  F00000001                      188    Kharif      Alluvial   \n",
       "1  F00000003                      209    Kharif      Alluvial   \n",
       "2  F00000004                      257    Kharif      Alluvial   \n",
       "3  F00000005                      257    Kharif  Black-Cotton   \n",
       "4  F00000006                      342    Kharif      Alluvial   \n",
       "\n",
       "  Pesticide_Use_Category  Number_Doses_Week  Number_Weeks_Used  \\\n",
       "0           Insecticides                  0                  0   \n",
       "1           Insecticides                  0                  0   \n",
       "2           Insecticides                  0                  0   \n",
       "3           Insecticides                  0                  0   \n",
       "4           Insecticides                  0                  0   \n",
       "\n",
       "   Number_Weeks_Quit   Season     Crop_Damage  \n",
       "0                  0   Summer  Minimal Damage  \n",
       "1                  0  Monsoon  Partial Damage  \n",
       "2                  0  Monsoon  Partial Damage  \n",
       "3                  0  Monsoon  Partial Damage  \n",
       "4                  0  Monsoon  Partial Damage  "
      ]
     },
     "execution_count": 9,
     "metadata": {},
     "output_type": "execute_result"
    }
   ],
   "source": [
    "data  = pd.read_csv(\"Crop.csv\")\n",
    "data.head()"
   ]
  },
  {
   "cell_type": "code",
   "execution_count": 10,
   "id": "8fcfb53c",
   "metadata": {},
   "outputs": [
    {
     "data": {
      "text/html": [
       "<div>\n",
       "<style scoped>\n",
       "    .dataframe tbody tr th:only-of-type {\n",
       "        vertical-align: middle;\n",
       "    }\n",
       "\n",
       "    .dataframe tbody tr th {\n",
       "        vertical-align: top;\n",
       "    }\n",
       "\n",
       "    .dataframe thead th {\n",
       "        text-align: right;\n",
       "    }\n",
       "</style>\n",
       "<table border=\"1\" class=\"dataframe\">\n",
       "  <thead>\n",
       "    <tr style=\"text-align: right;\">\n",
       "      <th></th>\n",
       "      <th>Estimated_Insects_Count</th>\n",
       "      <th>Crop_Type</th>\n",
       "      <th>Soil_Type</th>\n",
       "      <th>Pesticide_Use_Category</th>\n",
       "      <th>Number_Doses_Week</th>\n",
       "      <th>Number_Weeks_Used</th>\n",
       "      <th>Number_Weeks_Quit</th>\n",
       "      <th>Season</th>\n",
       "      <th>Crop_Damage</th>\n",
       "    </tr>\n",
       "  </thead>\n",
       "  <tbody>\n",
       "    <tr>\n",
       "      <th>0</th>\n",
       "      <td>188</td>\n",
       "      <td>Kharif</td>\n",
       "      <td>Alluvial</td>\n",
       "      <td>Insecticides</td>\n",
       "      <td>0</td>\n",
       "      <td>0</td>\n",
       "      <td>0</td>\n",
       "      <td>Summer</td>\n",
       "      <td>Minimal Damage</td>\n",
       "    </tr>\n",
       "    <tr>\n",
       "      <th>1</th>\n",
       "      <td>209</td>\n",
       "      <td>Kharif</td>\n",
       "      <td>Alluvial</td>\n",
       "      <td>Insecticides</td>\n",
       "      <td>0</td>\n",
       "      <td>0</td>\n",
       "      <td>0</td>\n",
       "      <td>Monsoon</td>\n",
       "      <td>Partial Damage</td>\n",
       "    </tr>\n",
       "    <tr>\n",
       "      <th>2</th>\n",
       "      <td>257</td>\n",
       "      <td>Kharif</td>\n",
       "      <td>Alluvial</td>\n",
       "      <td>Insecticides</td>\n",
       "      <td>0</td>\n",
       "      <td>0</td>\n",
       "      <td>0</td>\n",
       "      <td>Monsoon</td>\n",
       "      <td>Partial Damage</td>\n",
       "    </tr>\n",
       "    <tr>\n",
       "      <th>3</th>\n",
       "      <td>257</td>\n",
       "      <td>Kharif</td>\n",
       "      <td>Black-Cotton</td>\n",
       "      <td>Insecticides</td>\n",
       "      <td>0</td>\n",
       "      <td>0</td>\n",
       "      <td>0</td>\n",
       "      <td>Monsoon</td>\n",
       "      <td>Partial Damage</td>\n",
       "    </tr>\n",
       "    <tr>\n",
       "      <th>4</th>\n",
       "      <td>342</td>\n",
       "      <td>Kharif</td>\n",
       "      <td>Alluvial</td>\n",
       "      <td>Insecticides</td>\n",
       "      <td>0</td>\n",
       "      <td>0</td>\n",
       "      <td>0</td>\n",
       "      <td>Monsoon</td>\n",
       "      <td>Partial Damage</td>\n",
       "    </tr>\n",
       "  </tbody>\n",
       "</table>\n",
       "</div>"
      ],
      "text/plain": [
       "   Estimated_Insects_Count Crop_Type     Soil_Type Pesticide_Use_Category  \\\n",
       "0                      188    Kharif      Alluvial           Insecticides   \n",
       "1                      209    Kharif      Alluvial           Insecticides   \n",
       "2                      257    Kharif      Alluvial           Insecticides   \n",
       "3                      257    Kharif  Black-Cotton           Insecticides   \n",
       "4                      342    Kharif      Alluvial           Insecticides   \n",
       "\n",
       "   Number_Doses_Week  Number_Weeks_Used  Number_Weeks_Quit   Season  \\\n",
       "0                  0                  0                  0   Summer   \n",
       "1                  0                  0                  0  Monsoon   \n",
       "2                  0                  0                  0  Monsoon   \n",
       "3                  0                  0                  0  Monsoon   \n",
       "4                  0                  0                  0  Monsoon   \n",
       "\n",
       "      Crop_Damage  \n",
       "0  Minimal Damage  \n",
       "1  Partial Damage  \n",
       "2  Partial Damage  \n",
       "3  Partial Damage  \n",
       "4  Partial Damage  "
      ]
     },
     "execution_count": 10,
     "metadata": {},
     "output_type": "execute_result"
    }
   ],
   "source": [
    "data.drop([\"ID\"],axis =1 , inplace = True)\n",
    "data.head()"
   ]
  },
  {
   "cell_type": "code",
   "execution_count": 11,
   "id": "85d4c0d4",
   "metadata": {},
   "outputs": [
    {
     "data": {
      "text/plain": [
       "Estimated_Insects_Count    0\n",
       "Crop_Type                  0\n",
       "Soil_Type                  0\n",
       "Pesticide_Use_Category     0\n",
       "Number_Doses_Week          0\n",
       "Number_Weeks_Used          0\n",
       "Number_Weeks_Quit          0\n",
       "Season                     0\n",
       "Crop_Damage                0\n",
       "dtype: int64"
      ]
     },
     "execution_count": 11,
     "metadata": {},
     "output_type": "execute_result"
    }
   ],
   "source": [
    "data.isnull().sum()"
   ]
  },
  {
   "cell_type": "code",
   "execution_count": 12,
   "id": "bd6576c2",
   "metadata": {},
   "outputs": [
    {
     "name": "stdout",
     "output_type": "stream",
     "text": [
      "3\n"
     ]
    },
    {
     "data": {
      "text/plain": [
       "array([0, 1, 2])"
      ]
     },
     "execution_count": 12,
     "metadata": {},
     "output_type": "execute_result"
    }
   ],
   "source": [
    "data[\"Crop_Type\"] = np.where(data[\"Crop_Type\"] == \"Kharif\", 0, 1)\n",
    "data[\"Soil_Type\"] = np.where(data[\"Soil_Type\"] == \"Alluvial\", 0, 1)\n",
    "data[\"Pesticide_Use_Category\"].mask(data[\"Pesticide_Use_Category\"] == 'Insecticides', 0, inplace=True)\n",
    "data[\"Pesticide_Use_Category\"].mask(data[\"Pesticide_Use_Category\"] == 'Bactericides', 1, inplace=True)\n",
    "data[\"Pesticide_Use_Category\"].mask(data[\"Pesticide_Use_Category\"] == 'Herbicides', 2, inplace=True)\n",
    "data[\"Season\"].mask(data[\"Season\"] == \"Summer\", 0 , inplace = True)\n",
    "data[\"Season\"].mask(data[\"Season\"] == \"Monsoon\", 1 , inplace = True)\n",
    "data[\"Season\"].mask(data[\"Season\"] == \"Winter\", 2 , inplace = True)\n",
    "data[\"Crop_Damage\"].mask(data[\"Crop_Damage\"] == \"Minimal Damage\",0,inplace =True)\n",
    "data[\"Crop_Damage\"].mask(data[\"Crop_Damage\"] == \"Significant Damage\",2,inplace =True)\n",
    "data[\"Crop_Damage\"].mask(data[\"Crop_Damage\"] == \"Partial Damage\",1,inplace = True)\n",
    "print(data[\"Crop_Damage\"].nunique())\n",
    "data = data.astype({'Pesticide_Use_Category':\"int\"})\n",
    "data = data.astype({\"Season\":\"int\"})\n",
    "data = data.astype({\"Crop_Damage\":\"int\"})\n",
    "data[\"Crop_Damage\"].unique()"
   ]
  },
  {
   "cell_type": "code",
   "execution_count": 13,
   "id": "236ab092",
   "metadata": {},
   "outputs": [],
   "source": [
    "from sklearn.model_selection import train_test_split\n",
    "X_train,X_test,y_train,y_test = train_test_split(data.drop([\"Crop_Damage\"],axis =1),data[\"Crop_Damage\"], random_state = 0)"
   ]
  },
  {
   "cell_type": "code",
   "execution_count": 16,
   "id": "a646e688",
   "metadata": {},
   "outputs": [
    {
     "data": {
      "text/plain": [
       "array([0, 0, 1, ..., 0, 0, 0])"
      ]
     },
     "execution_count": 16,
     "metadata": {},
     "output_type": "execute_result"
    }
   ],
   "source": [
    "from sklearn.neighbors import KNeighborsClassifier\n",
    "knn = KNeighborsClassifier(n_neighbors = 7).fit(X_train, y_train)\n",
    "\n",
    "\n",
    "knn_predictions = knn.predict(X_test)\n",
    "knn_predictions"
   ]
  },
  {
   "cell_type": "code",
   "execution_count": 18,
   "id": "91469a9a",
   "metadata": {},
   "outputs": [
    {
     "data": {
      "text/plain": [
       "0.8301598019356291"
      ]
     },
     "execution_count": 18,
     "metadata": {},
     "output_type": "execute_result"
    }
   ],
   "source": [
    "accuracy = knn.score(X_test, y_test)\n",
    "accuracy"
   ]
  },
  {
   "cell_type": "code",
   "execution_count": 19,
   "id": "30f9a4b9",
   "metadata": {},
   "outputs": [
    {
     "data": {
      "text/plain": [
       "array([[17892,   672,    22],\n",
       "       [ 2487,   544,    40],\n",
       "       [  410,   142,     6]], dtype=int64)"
      ]
     },
     "execution_count": 19,
     "metadata": {},
     "output_type": "execute_result"
    }
   ],
   "source": [
    "from sklearn.metrics import confusion_matrix\n",
    "cm = confusion_matrix(y_test, knn_predictions)\n",
    "cm"
   ]
  },
  {
   "cell_type": "code",
   "execution_count": 22,
   "id": "ce36b088",
   "metadata": {},
   "outputs": [
    {
     "name": "stdout",
     "output_type": "stream",
     "text": [
      "              precision    recall  f1-score   support\n",
      "\n",
      "           0       0.86      0.96      0.91     18586\n",
      "           1       0.40      0.18      0.25      3071\n",
      "           2       0.09      0.01      0.02       558\n",
      "\n",
      "    accuracy                           0.83     22215\n",
      "   macro avg       0.45      0.38      0.39     22215\n",
      "weighted avg       0.78      0.83      0.79     22215\n",
      "\n"
     ]
    }
   ],
   "source": [
    "from sklearn.metrics import classification_report\n",
    "print(classification_report(y_test,knn_predictions))"
   ]
  },
  {
   "cell_type": "code",
   "execution_count": 24,
   "id": "bfe9ed8b",
   "metadata": {},
   "outputs": [],
   "source": [
    "import pickle\n",
    "pickle.dump(knn,open(\"crop_damage.pkl\",\"wb\"))"
   ]
  },
  {
   "cell_type": "code",
   "execution_count": 25,
   "id": "e1f414c4",
   "metadata": {},
   "outputs": [],
   "source": [
    "loaded_model = pickle.load(open(\"crop_damage.pkl\",\"rb\"))"
   ]
  },
  {
   "cell_type": "code",
   "execution_count": 26,
   "id": "187e82ad",
   "metadata": {},
   "outputs": [
    {
     "data": {
      "text/html": [
       "<div>\n",
       "<style scoped>\n",
       "    .dataframe tbody tr th:only-of-type {\n",
       "        vertical-align: middle;\n",
       "    }\n",
       "\n",
       "    .dataframe tbody tr th {\n",
       "        vertical-align: top;\n",
       "    }\n",
       "\n",
       "    .dataframe thead th {\n",
       "        text-align: right;\n",
       "    }\n",
       "</style>\n",
       "<table border=\"1\" class=\"dataframe\">\n",
       "  <thead>\n",
       "    <tr style=\"text-align: right;\">\n",
       "      <th></th>\n",
       "      <th>Estimated_Insects_Count</th>\n",
       "      <th>Crop_Type</th>\n",
       "      <th>Soil_Type</th>\n",
       "      <th>Pesticide_Use_Category</th>\n",
       "      <th>Number_Doses_Week</th>\n",
       "      <th>Number_Weeks_Used</th>\n",
       "      <th>Number_Weeks_Quit</th>\n",
       "      <th>Season</th>\n",
       "      <th>Crop_Damage</th>\n",
       "    </tr>\n",
       "  </thead>\n",
       "  <tbody>\n",
       "    <tr>\n",
       "      <th>0</th>\n",
       "      <td>188</td>\n",
       "      <td>0</td>\n",
       "      <td>0</td>\n",
       "      <td>0</td>\n",
       "      <td>0</td>\n",
       "      <td>0</td>\n",
       "      <td>0</td>\n",
       "      <td>0</td>\n",
       "      <td>0</td>\n",
       "    </tr>\n",
       "    <tr>\n",
       "      <th>1</th>\n",
       "      <td>209</td>\n",
       "      <td>0</td>\n",
       "      <td>0</td>\n",
       "      <td>0</td>\n",
       "      <td>0</td>\n",
       "      <td>0</td>\n",
       "      <td>0</td>\n",
       "      <td>1</td>\n",
       "      <td>1</td>\n",
       "    </tr>\n",
       "    <tr>\n",
       "      <th>2</th>\n",
       "      <td>257</td>\n",
       "      <td>0</td>\n",
       "      <td>0</td>\n",
       "      <td>0</td>\n",
       "      <td>0</td>\n",
       "      <td>0</td>\n",
       "      <td>0</td>\n",
       "      <td>1</td>\n",
       "      <td>1</td>\n",
       "    </tr>\n",
       "    <tr>\n",
       "      <th>3</th>\n",
       "      <td>257</td>\n",
       "      <td>0</td>\n",
       "      <td>1</td>\n",
       "      <td>0</td>\n",
       "      <td>0</td>\n",
       "      <td>0</td>\n",
       "      <td>0</td>\n",
       "      <td>1</td>\n",
       "      <td>1</td>\n",
       "    </tr>\n",
       "    <tr>\n",
       "      <th>4</th>\n",
       "      <td>342</td>\n",
       "      <td>0</td>\n",
       "      <td>0</td>\n",
       "      <td>0</td>\n",
       "      <td>0</td>\n",
       "      <td>0</td>\n",
       "      <td>0</td>\n",
       "      <td>1</td>\n",
       "      <td>1</td>\n",
       "    </tr>\n",
       "  </tbody>\n",
       "</table>\n",
       "</div>"
      ],
      "text/plain": [
       "   Estimated_Insects_Count  Crop_Type  Soil_Type  Pesticide_Use_Category  \\\n",
       "0                      188          0          0                       0   \n",
       "1                      209          0          0                       0   \n",
       "2                      257          0          0                       0   \n",
       "3                      257          0          1                       0   \n",
       "4                      342          0          0                       0   \n",
       "\n",
       "   Number_Doses_Week  Number_Weeks_Used  Number_Weeks_Quit  Season  \\\n",
       "0                  0                  0                  0       0   \n",
       "1                  0                  0                  0       1   \n",
       "2                  0                  0                  0       1   \n",
       "3                  0                  0                  0       1   \n",
       "4                  0                  0                  0       1   \n",
       "\n",
       "   Crop_Damage  \n",
       "0            0  \n",
       "1            1  \n",
       "2            1  \n",
       "3            1  \n",
       "4            1  "
      ]
     },
     "execution_count": 26,
     "metadata": {},
     "output_type": "execute_result"
    }
   ],
   "source": [
    "data.head()"
   ]
  },
  {
   "cell_type": "code",
   "execution_count": 31,
   "id": "964b2a4e",
   "metadata": {},
   "outputs": [
    {
     "data": {
      "text/plain": [
       "array([1])"
      ]
     },
     "execution_count": 31,
     "metadata": {},
     "output_type": "execute_result"
    }
   ],
   "source": [
    "loaded_model.predict([[342,0,0,0,0,0,0,1]])"
   ]
  },
  {
   "cell_type": "code",
   "execution_count": 34,
   "id": "4cd949d7",
   "metadata": {},
   "outputs": [
    {
     "data": {
      "text/plain": [
       "array([ 0,  1,  9,  4, 13,  3, 14,  6,  2, 12, 15, 10,  8, 11,  7,  5, 17,\n",
       "       18, 16, 20, 21, 19, 22, 24, 23, 27, 25, 28, 26, 29, 30, 31, 33, 32,\n",
       "       36, 37, 34, 39, 44, 41, 35, 47, 46, 40, 42, 38, 43, 45, 49, 50, 48],\n",
       "      dtype=int64)"
      ]
     },
     "execution_count": 34,
     "metadata": {},
     "output_type": "execute_result"
    }
   ],
   "source": [
    "data[\"Number_Weeks_Quit\"].unique()"
   ]
  },
  {
   "cell_type": "code",
   "execution_count": null,
   "id": "8e7eaf5c",
   "metadata": {},
   "outputs": [],
   "source": []
  }
 ],
 "metadata": {
  "kernelspec": {
   "display_name": "Python 3",
   "language": "python",
   "name": "python3"
  },
  "language_info": {
   "codemirror_mode": {
    "name": "ipython",
    "version": 3
   },
   "file_extension": ".py",
   "mimetype": "text/x-python",
   "name": "python",
   "nbconvert_exporter": "python",
   "pygments_lexer": "ipython3",
   "version": "3.9.1"
  }
 },
 "nbformat": 4,
 "nbformat_minor": 5
}
